{
  "cells": [
    {
      "cell_type": "code",
      "execution_count": 1,
      "metadata": {
        "id": "YGAKwLD7hq2o"
      },
      "outputs": [],
      "source": [
        "import torch\n",
        "from pathlib import Path\n",
        "from PIL import Image"
      ]
    },
    {
      "cell_type": "code",
      "execution_count": 2,
      "metadata": {
        "id": "p1_5c379imOB"
      },
      "outputs": [],
      "source": [
        "import zipfile"
      ]
    },
    {
      "cell_type": "code",
      "execution_count": 3,
      "metadata": {
        "colab": {
          "base_uri": "https://localhost:8080/"
        },
        "id": "LZaloBRxhx9S",
        "outputId": "d13c76bd-fcf0-4a27-82ef-de1b480c19fa"
      },
      "outputs": [
        {
          "name": "stdout",
          "output_type": "stream",
          "text": [
            "Mounted at /content/drive\n"
          ]
        }
      ],
      "source": [
        "from google.colab import drive\n",
        "drive.mount('/content/drive')"
      ]
    },
    {
      "cell_type": "code",
      "execution_count": 4,
      "metadata": {
        "id": "lsjE_VAeiX7X"
      },
      "outputs": [],
      "source": [
        "data_P = Path(\"/content/drive/MyDrive/archive_3.zip\")\n"
      ]
    },
    {
      "cell_type": "code",
      "execution_count": 5,
      "metadata": {
        "id": "M3TWlrdij5Gt"
      },
      "outputs": [],
      "source": [
        "paath = Path(\"data/\")\n",
        "Image_Path = paath / \"ECG\""
      ]
    },
    {
      "cell_type": "code",
      "execution_count": 8,
      "metadata": {
        "colab": {
          "base_uri": "https://localhost:8080/"
        },
        "id": "RrSYCBWVi0_h",
        "outputId": "427fb2e7-0969-4eb8-d5da-30aca129f211"
      },
      "outputs": [
        {
          "name": "stdout",
          "output_type": "stream",
          "text": [
            "Unzipping the file\n"
          ]
        }
      ],
      "source": [
        "with zipfile.ZipFile(\"/content/drive/MyDrive/archive_3.zip\", \"r\") as f:\n",
        "  print(f\"Unzipping the file\")\n",
        "  f.extractall(Image_Path)"
      ]
    },
    {
      "cell_type": "code",
      "execution_count": 10,
      "metadata": {
        "id": "U4XCO3gNhq2t"
      },
      "outputs": [],
      "source": [
        "# data_path = Path(\"ECG/\")\n",
        "# Image_Path = data_path / \"ECG_Image_data\""
      ]
    },
    {
      "cell_type": "code",
      "execution_count": 9,
      "metadata": {
        "id": "5838liCHhq2u"
      },
      "outputs": [],
      "source": [
        "device = \"cuda\" if torch.cuda.is_available() == True else \"cpu\""
      ]
    },
    {
      "cell_type": "code",
      "execution_count": 10,
      "metadata": {
        "colab": {
          "base_uri": "https://localhost:8080/",
          "height": 36
        },
        "id": "OnvncC5Chq2v",
        "outputId": "e9ac0be7-ebeb-4946-d0fa-60ff632f4da7"
      },
      "outputs": [
        {
          "data": {
            "application/vnd.google.colaboratory.intrinsic+json": {
              "type": "string"
            },
            "text/plain": [
              "'cuda'"
            ]
          },
          "execution_count": 10,
          "metadata": {},
          "output_type": "execute_result"
        }
      ],
      "source": [
        "device"
      ]
    },
    {
      "cell_type": "code",
      "execution_count": 11,
      "metadata": {
        "colab": {
          "base_uri": "https://localhost:8080/"
        },
        "id": "TNIpzJK2hq20",
        "outputId": "37502ad9-358c-4091-9eee-5da36caa196f"
      },
      "outputs": [
        {
          "data": {
            "text/plain": [
              "PosixPath('data/ECG')"
            ]
          },
          "execution_count": 11,
          "metadata": {},
          "output_type": "execute_result"
        }
      ],
      "source": [
        "Image_Path"
      ]
    },
    {
      "cell_type": "code",
      "execution_count": 12,
      "metadata": {
        "id": "eDQZEu11hq21"
      },
      "outputs": [],
      "source": [
        "train_dir = Image_Path / \"ECG_Image_data\" / \"train\"\n",
        "test_dir = Image_Path / \"ECG_Image_data\" / \"test\""
      ]
    },
    {
      "cell_type": "code",
      "execution_count": 13,
      "metadata": {
        "colab": {
          "base_uri": "https://localhost:8080/"
        },
        "id": "u8xKpDAQhq21",
        "outputId": "9a45f248-df5c-48e6-8db7-30a0c451ef50"
      },
      "outputs": [
        {
          "data": {
            "text/plain": [
              "(PosixPath('data/ECG/ECG_Image_data/train'),\n",
              " PosixPath('data/ECG/ECG_Image_data/test'))"
            ]
          },
          "execution_count": 13,
          "metadata": {},
          "output_type": "execute_result"
        }
      ],
      "source": [
        "train_dir,test_dir"
      ]
    },
    {
      "cell_type": "code",
      "execution_count": 14,
      "metadata": {
        "id": "A54PT1J1hq22"
      },
      "outputs": [],
      "source": [
        "import random\n",
        "\n",
        "Image_Path_list = list(Image_Path.glob(\"*/*/*/*.png\"))"
      ]
    },
    {
      "cell_type": "code",
      "execution_count": 15,
      "metadata": {
        "colab": {
          "base_uri": "https://localhost:8080/"
        },
        "id": "-bg1FNnEhq23",
        "outputId": "b0b5b3a4-f615-47bb-82d5-07af6d79973c"
      },
      "outputs": [
        {
          "data": {
            "text/plain": [
              "[PosixPath('data/ECG/ECG_Image_data/train/F/F626.png'),\n",
              " PosixPath('data/ECG/ECG_Image_data/train/F/F759.png'),\n",
              " PosixPath('data/ECG/ECG_Image_data/train/F/F602.png'),\n",
              " PosixPath('data/ECG/ECG_Image_data/train/F/F275.png'),\n",
              " PosixPath('data/ECG/ECG_Image_data/train/F/F314.png'),\n",
              " PosixPath('data/ECG/ECG_Image_data/train/F/F351.png'),\n",
              " PosixPath('data/ECG/ECG_Image_data/train/F/F59.png'),\n",
              " PosixPath('data/ECG/ECG_Image_data/train/F/F463.png'),\n",
              " PosixPath('data/ECG/ECG_Image_data/train/F/F795.png'),\n",
              " PosixPath('data/ECG/ECG_Image_data/train/F/F307.png')]"
            ]
          },
          "execution_count": 15,
          "metadata": {},
          "output_type": "execute_result"
        }
      ],
      "source": [
        "Image_Path_list[:10]"
      ]
    },
    {
      "cell_type": "code",
      "execution_count": 16,
      "metadata": {
        "colab": {
          "base_uri": "https://localhost:8080/"
        },
        "id": "Jb9tveMzhq24",
        "outputId": "14677861-5fad-4f83-a9e0-a4b472b40695"
      },
      "outputs": [
        {
          "data": {
            "text/plain": [
              "123998"
            ]
          },
          "execution_count": 16,
          "metadata": {},
          "output_type": "execute_result"
        }
      ],
      "source": [
        "len(Image_Path_list)"
      ]
    },
    {
      "cell_type": "code",
      "execution_count": 17,
      "metadata": {
        "colab": {
          "base_uri": "https://localhost:8080/",
          "height": 357
        },
        "id": "DL0Dtm_5hq25",
        "outputId": "4203371c-7287-4b6c-cadd-9f15999d363f"
      },
      "outputs": [
        {
          "name": "stdout",
          "output_type": "stream",
          "text": [
            "Image height: 288\n",
            "Image width: 432\n",
            "Image class: F\n"
          ]
        },
        {
          "data": {
            "image/png": "[encoded data removed]",
            "text/plain": [
              "<PIL.PngImagePlugin.PngImageFile image mode=RGBA size=432x288>"
            ]
          },
          "execution_count": 17,
          "metadata": {},
          "output_type": "execute_result"
        }
      ],
      "source": [
        "img = Image.open(Image_Path_list[5])\n",
        "print(f\"Image height: {img.height}\")\n",
        "print(f\"Image width: {img.width}\")\n",
        "print(f\"Image class: {Image_Path_list[5].parent.stem}\")\n",
        "img"
      ]
    },
    {
      "cell_type": "markdown",
      "metadata": {
        "id": "gnTWNYZJhq25"
      },
      "source": [
        "### Loading it into the DataLoader and and transforming it into tensor using `torchvision`"
      ]
    },
    {
      "cell_type": "code",
      "execution_count": 18,
      "metadata": {
        "id": "buksY-kdhq27"
      },
      "outputs": [],
      "source": [
        "from torch.utils.data import DataLoader\n",
        "from torchvision import transforms\n",
        "from torchvision import datasets"
      ]
    },
    {
      "cell_type": "code",
      "execution_count": 19,
      "metadata": {
        "id": "oTET8y0vhq27"
      },
      "outputs": [],
      "source": [
        "data_transformer = transforms.Compose([\n",
        "    transforms.Resize(size=(64,64)),\n",
        "    transforms.RandomHorizontalFlip(p=0.5),\n",
        "    transforms.ToTensor()\n",
        "])"
      ]
    },
    {
      "cell_type": "code",
      "execution_count": 20,
      "metadata": {
        "id": "6EtmiTCZhq27"
      },
      "outputs": [],
      "source": [
        "from matplotlib import pyplot as plt"
      ]
    },
    {
      "cell_type": "code",
      "execution_count": 21,
      "metadata": {
        "id": "eRnfWIAfhq28"
      },
      "outputs": [],
      "source": [
        "def Comparator101(image_path, transformer,n=4):\n",
        "\n",
        "    random_image_paths = random.sample(image_path,k=n)\n",
        "\n",
        "    for image_path in random_image_paths:\n",
        "        with Image.open(image_path) as f:\n",
        "            fig,ax = plt.subplots(nrows=1,ncols=2)\n",
        "            ax[0].imshow(f)\n",
        "            ax[0].set_title(f\"Original Image: {f.size}\")\n",
        "            ax[0].axis(False)\n",
        "\n",
        "            transformed_image = transformer(f).permute(1,2,0)\n",
        "            ax[1].imshow(transformed_image)\n",
        "            ax[1].set_title(f\"Transformed Image: {transformed_image.shape}\")\n",
        "            ax[1].axis(False)\n",
        "\n",
        "            fig.suptitle(f\"Class : {image_path.parent.stem}\")\n",
        "\n"
      ]
    },
    {
      "cell_type": "code",
      "execution_count": 22,
      "metadata": {
        "colab": {
          "base_uri": "https://localhost:8080/",
          "height": 1000
        },
        "id": "EA4O3yd2hq28",
        "outputId": "270e3470-4353-4ed3-e65e-b4c6d980ebca"
      },
      "outputs": [
        {
          "data": {
            "image/png": "[encoded data removed]",
            "text/plain": [
              "<Figure size 640x480 with 2 Axes>"
            ]
          },
          "metadata": {},
          "output_type": "display_data"
        },
        {
          "data": {
            "image/png": "[encoded data removed]",
            "text/plain": [
              "<Figure size 640x480 with 2 Axes>"
            ]
          },
          "metadata": {},
          "output_type": "display_data"
        },
        {
          "data": {
            "image/png": "[encoded data removed]",
            "text/plain": [
              "<Figure size 640x480 with 2 Axes>"
            ]
          },
          "metadata": {},
          "output_type": "display_data"
        },
        {
          "data": {
            "image/png": "[encoded data removed]",
            "text/plain": [
              "<Figure size 640x480 with 2 Axes>"
            ]
          },
          "metadata": {},
          "output_type": "display_data"
        }
      ],
      "source": [
        "Comparator101(image_path=Image_Path_list,transformer=data_transformer,n=4)"
      ]
    },
    {
      "cell_type": "markdown",
      "metadata": {
        "id": "QTqjaohwhq28"
      },
      "source": [
        "## Creating the Dataset and DataLoader"
      ]
    },
    {
      "cell_type": "code",
      "execution_count": 23,
      "metadata": {
        "id": "X8loG-IFhq29"
      },
      "outputs": [],
      "source": [
        "from torch.utils.data import DataLoader\n",
        "from torchvision import datasets"
      ]
    },
    {
      "cell_type": "code",
      "execution_count": 24,
      "metadata": {
        "id": "yLrbFXdthq29"
      },
      "outputs": [],
      "source": [
        "train_data = datasets.ImageFolder(root=train_dir,transform=data_transformer,\n",
        "                                  target_transform=None)\n",
        "\n",
        "test_data = datasets.ImageFolder(root=test_dir,\n",
        "                                 transform=data_transformer,\n",
        "                                 target_transform=None)"
      ]
    },
    {
      "cell_type": "code",
      "execution_count": 25,
      "metadata": {
        "colab": {
          "base_uri": "https://localhost:8080/"
        },
        "id": "ZtiLCkOxhq29",
        "outputId": "184b2872-ae8f-4aaf-aef7-19ae8b9f0ade"
      },
      "outputs": [
        {
          "data": {
            "text/plain": [
              "(Dataset ImageFolder\n",
              "     Number of datapoints: 99199\n",
              "     Root location: data/ECG/ECG_Image_data/train\n",
              "     StandardTransform\n",
              " Transform: Compose(\n",
              "                Resize(size=(64, 64), interpolation=bilinear, max_size=None, antialias=warn)\n",
              "                RandomHorizontalFlip(p=0.5)\n",
              "                ToTensor()\n",
              "            ),\n",
              " Dataset ImageFolder\n",
              "     Number of datapoints: 24799\n",
              "     Root location: data/ECG/ECG_Image_data/test\n",
              "     StandardTransform\n",
              " Transform: Compose(\n",
              "                Resize(size=(64, 64), interpolation=bilinear, max_size=None, antialias=warn)\n",
              "                RandomHorizontalFlip(p=0.5)\n",
              "                ToTensor()\n",
              "            ))"
            ]
          },
          "execution_count": 25,
          "metadata": {},
          "output_type": "execute_result"
        }
      ],
      "source": [
        "train_data,test_data"
      ]
    },
    {
      "cell_type": "code",
      "execution_count": 26,
      "metadata": {
        "colab": {
          "base_uri": "https://localhost:8080/"
        },
        "id": "VZoL03YQtYIQ",
        "outputId": "fb7a95e8-ed58-4ac9-e0ca-9adb73aa8803"
      },
      "outputs": [
        {
          "data": {
            "text/plain": [
              "24799"
            ]
          },
          "execution_count": 26,
          "metadata": {},
          "output_type": "execute_result"
        }
      ],
      "source": [
        "len(test_data)"
      ]
    },
    {
      "cell_type": "code",
      "execution_count": 27,
      "metadata": {
        "id": "XlwO3fn-hq29"
      },
      "outputs": [],
      "source": [
        "labels = train_data.classes"
      ]
    },
    {
      "cell_type": "code",
      "execution_count": 28,
      "metadata": {
        "colab": {
          "base_uri": "https://localhost:8080/"
        },
        "id": "teMIJh2bhq2-",
        "outputId": "19f49b8c-3d9b-4ed5-c057-13a91f054194"
      },
      "outputs": [
        {
          "data": {
            "text/plain": [
              "['F', 'M', 'N', 'Q', 'S', 'V']"
            ]
          },
          "execution_count": 28,
          "metadata": {},
          "output_type": "execute_result"
        }
      ],
      "source": [
        "labels"
      ]
    },
    {
      "cell_type": "code",
      "execution_count": 29,
      "metadata": {
        "id": "zrwgdQ5yhq2-"
      },
      "outputs": [],
      "source": [
        "labels_as_dict = train_data.class_to_idx"
      ]
    },
    {
      "cell_type": "code",
      "execution_count": 30,
      "metadata": {
        "colab": {
          "base_uri": "https://localhost:8080/"
        },
        "id": "FxfJkEOXhq2-",
        "outputId": "fb6aa933-a357-49a8-c810-cb1bf5cd6558"
      },
      "outputs": [
        {
          "data": {
            "text/plain": [
              "{'F': 0, 'M': 1, 'N': 2, 'Q': 3, 'S': 4, 'V': 5}"
            ]
          },
          "execution_count": 30,
          "metadata": {},
          "output_type": "execute_result"
        }
      ],
      "source": [
        "labels_as_dict"
      ]
    },
    {
      "cell_type": "code",
      "execution_count": 31,
      "metadata": {
        "colab": {
          "base_uri": "https://localhost:8080/"
        },
        "id": "yQa0jQ-5hq2-",
        "outputId": "013da92e-71ac-456d-8f4e-499120ce2cce"
      },
      "outputs": [
        {
          "data": {
            "text/plain": [
              "(tensor([[[1., 1., 1.,  ..., 1., 1., 1.],\n",
              "          [1., 1., 1.,  ..., 1., 1., 1.],\n",
              "          [1., 1., 1.,  ..., 1., 1., 1.],\n",
              "          ...,\n",
              "          [1., 1., 1.,  ..., 1., 1., 1.],\n",
              "          [1., 1., 1.,  ..., 1., 1., 1.],\n",
              "          [1., 1., 1.,  ..., 1., 1., 1.]],\n",
              " \n",
              "         [[1., 1., 1.,  ..., 1., 1., 1.],\n",
              "          [1., 1., 1.,  ..., 1., 1., 1.],\n",
              "          [1., 1., 1.,  ..., 1., 1., 1.],\n",
              "          ...,\n",
              "          [1., 1., 1.,  ..., 1., 1., 1.],\n",
              "          [1., 1., 1.,  ..., 1., 1., 1.],\n",
              "          [1., 1., 1.,  ..., 1., 1., 1.]],\n",
              " \n",
              "         [[1., 1., 1.,  ..., 1., 1., 1.],\n",
              "          [1., 1., 1.,  ..., 1., 1., 1.],\n",
              "          [1., 1., 1.,  ..., 1., 1., 1.],\n",
              "          ...,\n",
              "          [1., 1., 1.,  ..., 1., 1., 1.],\n",
              "          [1., 1., 1.,  ..., 1., 1., 1.],\n",
              "          [1., 1., 1.,  ..., 1., 1., 1.]]]),\n",
              " 0)"
            ]
          },
          "execution_count": 31,
          "metadata": {},
          "output_type": "execute_result"
        }
      ],
      "source": [
        "sample_image,clas = train_data[9][0],train_data[9][1]\n",
        "sample_image,clas"
      ]
    },
    {
      "cell_type": "code",
      "execution_count": 32,
      "metadata": {
        "colab": {
          "base_uri": "https://localhost:8080/",
          "height": 36
        },
        "id": "2K5yvGKMhq2-",
        "outputId": "11e7cf3e-4565-43ae-e09f-e3efaa984e1d"
      },
      "outputs": [
        {
          "data": {
            "application/vnd.google.colaboratory.intrinsic+json": {
              "type": "string"
            },
            "text/plain": [
              "'F'"
            ]
          },
          "execution_count": 32,
          "metadata": {},
          "output_type": "execute_result"
        }
      ],
      "source": [
        "labels[clas]"
      ]
    },
    {
      "cell_type": "code",
      "execution_count": 33,
      "metadata": {
        "colab": {
          "base_uri": "https://localhost:8080/"
        },
        "id": "Joo88Ik5hq2_",
        "outputId": "3a7dffed-6116-4245-d20c-50837d6e1c34"
      },
      "outputs": [
        {
          "data": {
            "text/plain": [
              "2"
            ]
          },
          "execution_count": 33,
          "metadata": {},
          "output_type": "execute_result"
        }
      ],
      "source": [
        "import os\n",
        "os.cpu_count()\n"
      ]
    },
    {
      "cell_type": "code",
      "execution_count": 34,
      "metadata": {
        "colab": {
          "base_uri": "https://localhost:8080/"
        },
        "id": "ql8IIc5vo98F",
        "outputId": "aee69922-168d-4993-be3f-e4a13bfb5882"
      },
      "outputs": [
        {
          "data": {
            "text/plain": [
              "99199"
            ]
          },
          "execution_count": 34,
          "metadata": {},
          "output_type": "execute_result"
        }
      ],
      "source": [
        "len(train_data)"
      ]
    },
    {
      "cell_type": "code",
      "execution_count": 35,
      "metadata": {
        "id": "WU11cuTdhq2_"
      },
      "outputs": [],
      "source": [
        "train_dataloader = DataLoader(dataset=train_data,\n",
        "                              batch_size=32,\n",
        "                              shuffle=True,\n",
        "                              num_workers=os.cpu_count())\n"
      ]
    },
    {
      "cell_type": "code",
      "execution_count": 36,
      "metadata": {
        "id": "A4xmZIaWt1wP"
      },
      "outputs": [],
      "source": [
        "test_dataloader = DataLoader(dataset=test_data,\n",
        "                             batch_size=32,\n",
        "                             shuffle=True,\n",
        "                             num_workers=os.cpu_count())"
      ]
    },
    {
      "cell_type": "code",
      "execution_count": 37,
      "metadata": {
        "colab": {
          "base_uri": "https://localhost:8080/"
        },
        "id": "Lzy0_7ZHhq2_",
        "outputId": "0a02412c-6f3b-42b9-9218-bb0feb1b2173"
      },
      "outputs": [
        {
          "data": {
            "text/plain": [
              "(<torch.utils.data.dataloader.DataLoader at 0x7a345739f790>,\n",
              " <torch.utils.data.dataloader.DataLoader at 0x7a345739f880>)"
            ]
          },
          "execution_count": 37,
          "metadata": {},
          "output_type": "execute_result"
        }
      ],
      "source": [
        "train_dataloader,test_dataloader"
      ]
    },
    {
      "cell_type": "code",
      "execution_count": 38,
      "metadata": {
        "colab": {
          "base_uri": "https://localhost:8080/"
        },
        "id": "PKVo9SgZhq3B",
        "outputId": "4410f80b-df54-4ad1-d9dc-63c475c50d8f"
      },
      "outputs": [
        {
          "name": "stdout",
          "output_type": "stream",
          "text": [
            "Image Shape: torch.Size([32, 3, 64, 64])\n",
            "Label shape : torch.Size([32])\n"
          ]
        }
      ],
      "source": [
        "img,label = next(iter(train_dataloader))\n",
        "print(f\"Image Shape: {img.shape}\")\n",
        "print(f\"Label shape : {label.shape}\")"
      ]
    },
    {
      "cell_type": "markdown",
      "metadata": {
        "id": "cFvnVN4Fhq3B"
      },
      "source": [
        "### Replicating the TinyVGG Architecture"
      ]
    },
    {
      "cell_type": "code",
      "execution_count": 39,
      "metadata": {
        "id": "ST-q1J0hhq3C"
      },
      "outputs": [],
      "source": [
        "from torch import nn"
      ]
    },
    {
      "cell_type": "code",
      "execution_count": 40,
      "metadata": {
        "id": "_Qb4Jwnkhq3C"
      },
      "outputs": [],
      "source": [
        "class TinyVGG(nn.Module):\n",
        "    def __init__(self,inPut:int, hidden: int, outPut: int):\n",
        "        super().__init__()\n",
        "\n",
        "        self.block1 = nn.Sequential(\n",
        "            nn.Conv2d(in_channels=inPut,kernel_size=3,stride=1,padding=1,out_channels=hidden),\n",
        "            nn.ReLU(),\n",
        "            nn.Conv2d(in_channels=hidden,kernel_size=3,stride=1,padding=1,out_channels=hidden),\n",
        "            nn.ReLU(),\n",
        "            nn.MaxPool2d(stride=2,kernel_size=3)\n",
        "        )\n",
        "\n",
        "        self.block2 = nn.Sequential(\n",
        "            nn.Conv2d(in_channels=hidden,kernel_size=3,stride=1,padding=1,out_channels=hidden),\n",
        "            nn.ReLU(),\n",
        "            nn.Conv2d(in_channels=hidden,kernel_size=3,stride=1,padding=1,out_channels=hidden),\n",
        "            nn.ReLU(),\n",
        "            nn.MaxPool2d(kernel_size=3,stride=1)\n",
        "        )\n",
        "\n",
        "        self.classifier = nn.Sequential(\n",
        "            nn.Flatten(),\n",
        "            nn.Linear(in_features=hidden*841,\n",
        "                      out_features=outPut)\n",
        "        )\n",
        "\n",
        "    def forward(self,x : torch.tensor):\n",
        "        x = self.block1(x)\n",
        "        # print(f\"shape after block 1 : {x.shape}\")\n",
        "        x = self.block2(x)\n",
        "        # print(f\"Shape after block 2 : {x.shape}\")\n",
        "        x = self.classifier(x)\n",
        "        # print(f\"Shape after classifeir layer : {x.shape}\")\n",
        "\n",
        "        return x"
      ]
    },
    {
      "cell_type": "code",
      "execution_count": 41,
      "metadata": {
        "colab": {
          "base_uri": "https://localhost:8080/"
        },
        "id": "Q9tRIzk7hq3C",
        "outputId": "d6113820-bc52-463b-f138-2c1086e3afd6"
      },
      "outputs": [
        {
          "data": {
            "text/plain": [
              "6"
            ]
          },
          "execution_count": 41,
          "metadata": {},
          "output_type": "execute_result"
        }
      ],
      "source": [
        "len(labels)"
      ]
    },
    {
      "cell_type": "code",
      "execution_count": 42,
      "metadata": {
        "id": "VjaESA18hq3D"
      },
      "outputs": [],
      "source": [
        "model_0 = TinyVGG(inPut=3, hidden=10, outPut=len(labels)).to(device)"
      ]
    },
    {
      "cell_type": "code",
      "execution_count": 43,
      "metadata": {
        "colab": {
          "base_uri": "https://localhost:8080/"
        },
        "id": "hGL0Hunvhq3D",
        "outputId": "70b556d6-773f-4e56-f1ad-b5ae0985ac74"
      },
      "outputs": [
        {
          "data": {
            "text/plain": [
              "tensor([[-0.0080,  0.0666, -0.0282, -0.0509, -0.0195,  0.0404],\n",
              "        [-0.0082,  0.0673, -0.0276, -0.0513, -0.0196,  0.0409],\n",
              "        [-0.0080,  0.0660, -0.0281, -0.0504, -0.0189,  0.0400],\n",
              "        [-0.0084,  0.0674, -0.0280, -0.0509, -0.0197,  0.0405],\n",
              "        [-0.0080,  0.0668, -0.0281, -0.0509, -0.0199,  0.0410],\n",
              "        [-0.0085,  0.0680, -0.0285, -0.0509, -0.0194,  0.0417],\n",
              "        [-0.0086,  0.0673, -0.0279, -0.0508, -0.0194,  0.0407],\n",
              "        [-0.0074,  0.0651, -0.0279, -0.0505, -0.0200,  0.0416],\n",
              "        [-0.0072,  0.0654, -0.0276, -0.0519, -0.0194,  0.0409],\n",
              "        [-0.0073,  0.0659, -0.0278, -0.0527, -0.0184,  0.0408],\n",
              "        [-0.0076,  0.0664, -0.0282, -0.0512, -0.0189,  0.0412],\n",
              "        [-0.0078,  0.0664, -0.0278, -0.0509, -0.0188,  0.0400],\n",
              "        [-0.0078,  0.0672, -0.0273, -0.0511, -0.0189,  0.0406],\n",
              "        [-0.0084,  0.0665, -0.0287, -0.0509, -0.0193,  0.0408],\n",
              "        [-0.0077,  0.0663, -0.0278, -0.0512, -0.0193,  0.0412],\n",
              "        [-0.0091,  0.0658, -0.0288, -0.0503, -0.0200,  0.0389],\n",
              "        [-0.0081,  0.0662, -0.0285, -0.0510, -0.0194,  0.0407],\n",
              "        [-0.0079,  0.0679, -0.0281, -0.0510, -0.0194,  0.0418],\n",
              "        [-0.0079,  0.0681, -0.0281, -0.0501, -0.0199,  0.0400],\n",
              "        [-0.0084,  0.0669, -0.0273, -0.0508, -0.0196,  0.0411],\n",
              "        [-0.0077,  0.0660, -0.0279, -0.0510, -0.0198,  0.0400],\n",
              "        [-0.0078,  0.0675, -0.0288, -0.0500, -0.0190,  0.0399],\n",
              "        [-0.0083,  0.0664, -0.0286, -0.0507, -0.0192,  0.0410],\n",
              "        [-0.0072,  0.0661, -0.0287, -0.0508, -0.0193,  0.0411],\n",
              "        [-0.0077,  0.0660, -0.0293, -0.0515, -0.0215,  0.0397],\n",
              "        [-0.0071,  0.0663, -0.0283, -0.0512, -0.0194,  0.0410],\n",
              "        [-0.0083,  0.0659, -0.0280, -0.0505, -0.0193,  0.0402],\n",
              "        [-0.0088,  0.0671, -0.0282, -0.0512, -0.0191,  0.0405],\n",
              "        [-0.0070,  0.0655, -0.0280, -0.0509, -0.0210,  0.0400],\n",
              "        [-0.0074,  0.0659, -0.0283, -0.0503, -0.0183,  0.0403],\n",
              "        [-0.0073,  0.0667, -0.0281, -0.0508, -0.0192,  0.0403],\n",
              "        [-0.0085,  0.0675, -0.0280, -0.0509, -0.0192,  0.0398]],\n",
              "       device='cuda:0', grad_fn=<AddmmBackward0>)"
            ]
          },
          "execution_count": 43,
          "metadata": {},
          "output_type": "execute_result"
        }
      ],
      "source": [
        "model_0(img.to(device))"
      ]
    },
    {
      "cell_type": "code",
      "execution_count": 43,
      "metadata": {
        "id": "5v5ZMxNSnkx9"
      },
      "outputs": [],
      "source": []
    },
    {
      "cell_type": "code",
      "execution_count": 44,
      "metadata": {
        "id": "9x3DxztUhq3D"
      },
      "outputs": [],
      "source": [
        "def train_step(model: torch.nn.Module,\n",
        "               dataloader: DataLoader,\n",
        "               loss_fn: torch.nn.Module,\n",
        "               optimizer: torch.optim.Optimizer,\n",
        "               ):\n",
        "    # Put model in train mode\n",
        "    model.train()\n",
        "\n",
        "    # Setup train loss and train accuracy values\n",
        "    train_loss, train_acc = 0, 0\n",
        "\n",
        "    # Loop through data loader data batches\n",
        "    for batch, (X, y) in enumerate(dataloader):\n",
        "        # Send data to target device\n",
        "        X, y = X.to(device), y.to(device)\n",
        "\n",
        "        # 1. Forward pass\n",
        "        y_pred = model(X)\n",
        "\n",
        "        # 2. Calculate  and accumulate loss\n",
        "        loss = loss_fn(y_pred, y)\n",
        "        train_loss += loss.item()\n",
        "\n",
        "        # 3. Optimizer zero grad\n",
        "        optimizer.zero_grad()\n",
        "\n",
        "        # 4. Loss backward\n",
        "        loss.backward()\n",
        "\n",
        "        # 5. Optimizer step\n",
        "        optimizer.step()\n",
        "\n",
        "        # Calculate and accumulate accuracy metric across all batches\n",
        "        y_pred_class = torch.argmax(torch.softmax(y_pred, dim=1), dim=1)\n",
        "        train_acc += (y_pred_class == y).sum().item()/len(y_pred)\n",
        "\n",
        "    # Adjust metrics to get average loss and accuracy per batch\n",
        "    train_loss = train_loss / len(dataloader)\n",
        "    train_acc = train_acc / len(dataloader)\n",
        "    return train_loss, train_acc"
      ]
    },
    {
      "cell_type": "code",
      "execution_count": 45,
      "metadata": {
        "id": "w84mbHbchq3D"
      },
      "outputs": [],
      "source": [
        "def test_step(model: torch.nn.Module,\n",
        "              dataloader: DataLoader,\n",
        "              loss_fn: torch.nn.Module):\n",
        "    # Put model in eval mode\n",
        "    model.eval()\n",
        "\n",
        "    # Setup test loss and test accuracy values\n",
        "    test_loss, test_acc = 0, 0\n",
        "\n",
        "    # Turn on inference context manager\n",
        "    with torch.inference_mode():\n",
        "        # Loop through DataLoader batches\n",
        "        for batch, (X, y) in enumerate(dataloader):\n",
        "            # Send data to target device\n",
        "            X, y = X.to(device), y.to(device)\n",
        "\n",
        "            # 1. Forward pass\n",
        "            test_pred_logits = model(X)\n",
        "\n",
        "            # 2. Calculate and accumulate loss\n",
        "            loss = loss_fn(test_pred_logits, y)\n",
        "            test_loss += loss.item()\n",
        "\n",
        "            # Calculate and accumulate accuracy\n",
        "            test_pred_labels = test_pred_logits.argmax(dim=1)\n",
        "            test_acc += ((test_pred_labels == y).sum().item()/len(test_pred_labels))\n",
        "\n",
        "    # Adjust metrics to get average loss and accuracy per batch\n",
        "    test_loss = test_loss / len(dataloader)\n",
        "    test_acc = test_acc / len(dataloader)\n",
        "    return test_loss, test_acc"
      ]
    },
    {
      "cell_type": "code",
      "execution_count": 46,
      "metadata": {
        "id": "UVmhx3FQhq3J"
      },
      "outputs": [],
      "source": [
        "from tqdm.auto import tqdm\n",
        "\n",
        "# 1. Take in various parameters required for training and test steps\n",
        "def train(model: torch.nn.Module,\n",
        "          train_dataloader: torch.utils.data.DataLoader,\n",
        "          test_dataloader: torch.utils.data.DataLoader,\n",
        "          optimizer: torch.optim.Optimizer,\n",
        "          loss_fn: torch.nn.Module,\n",
        "          epochs: int):\n",
        "\n",
        "    # 2. Create empty results dictionary\n",
        "    results = {\"train_loss\": [],\n",
        "        \"train_acc\": [],\n",
        "        \"test_loss\": [],\n",
        "        \"test_acc\": []\n",
        "    }\n",
        "\n",
        "    # 3. Loop through training and testing steps for a number of epochs\n",
        "    for epoch in tqdm(range(epochs)):\n",
        "        train_loss, train_acc = train_step(model=model,\n",
        "                                           dataloader=train_dataloader,\n",
        "                                           loss_fn=loss_fn,\n",
        "                                           optimizer=optimizer)\n",
        "        test_loss, test_acc = test_step(model=model,\n",
        "            dataloader=test_dataloader,\n",
        "            loss_fn=loss_fn)\n",
        "\n",
        "        # 4. Print out what's happening\n",
        "        print(\n",
        "            f\"Epoch: {epoch+1} | \"\n",
        "            f\"train_loss: {train_loss:.4f} | \"\n",
        "            f\"train_acc: {train_acc:.4f} | \"\n",
        "            f\"test_loss: {test_loss:.4f} | \"\n",
        "            f\"test_acc: {test_acc:.4f}\"\n",
        "        )\n",
        "\n",
        "        # 5. Update results dictionary\n",
        "        results[\"train_loss\"].append(train_loss)\n",
        "        results[\"train_acc\"].append(train_acc)\n",
        "        results[\"test_loss\"].append(test_loss)\n",
        "        results[\"test_acc\"].append(test_acc)\n",
        "\n",
        "    # 6. Return the filled results at the end of the epochs\n",
        "    return results"
      ]
    },
    {
      "cell_type": "code",
      "execution_count": 47,
      "metadata": {
        "colab": {
          "base_uri": "https://localhost:8080/",
          "height": 66,
          "referenced_widgets": [
            "4296fb00f5ed40d29135e12565e268d7",
            "e6931e75dbb1410a99560bee4bc0dc6e",
            "947042e531b544e2a9a734d18ea56448",
            "06714e9278fa4863a2f1bdfb0aa8138b",
            "bdc0097d7ef94fa6a7df4757bc8431e5",
            "0c5e2f2f9db6447bab0b8d5864154ba3",
            "b2513fb72634434494d1c8299c0f293f",
            "219c3a9117c94eb18a97a2c23f9175a7",
            "0e326ef37af74795a3f4b774eca95848",
            "28033df219394b4fa49f20c917fc4cd1",
            "fd5ca1c24d9b421f925ffdfd0294b9bc"
          ]
        },
        "id": "ppp-MKwxhq3K",
        "outputId": "4d185012-a994-420b-d4f1-8e514b325048"
      },
      "outputs": [
        {
          "data": {
            "application/vnd.jupyter.widget-view+json": {
              "model_id": "4296fb00f5ed40d29135e12565e268d7",
              "version_major": 2,
              "version_minor": 0
            },
            "text/plain": [
              "  0%|          | 0/1 [00:00<?, ?it/s]"
            ]
          },
          "metadata": {},
          "output_type": "display_data"
        },
        {
          "name": "stdout",
          "output_type": "stream",
          "text": [
            "Epoch: 1 | train_loss: 0.0572 | train_acc: 0.9839 | test_loss: 0.0060 | test_acc: 0.9998\n"
          ]
        }
      ],
      "source": [
        "model = TinyVGG(inPut=3,hidden=16,outPut=len(labels)).to(device)\n",
        "\n",
        "loss_fn = nn.CrossEntropyLoss()\n",
        "\n",
        "optimizer = torch.optim.Adam(params=model.parameters(),lr=0.001)\n",
        "\n",
        "model_results = train(model=model,train_dataloader=train_dataloader,test_dataloader=test_dataloader,\n",
        "                      loss_fn=loss_fn,\n",
        "                      optimizer=optimizer,\n",
        "                      epochs=1)\n"
      ]
    },
    {
      "cell_type": "code",
      "execution_count": 48,
      "metadata": {
        "colab": {
          "base_uri": "https://localhost:8080/",
          "height": 36
        },
        "id": "Nym75bsphq3K",
        "outputId": "8abbcfb0-7c35-463c-b649-b55c7cdea3a4"
      },
      "outputs": [
        {
          "data": {
            "application/vnd.google.colaboratory.intrinsic+json": {
              "type": "string"
            },
            "text/plain": [
              "'cuda'"
            ]
          },
          "execution_count": 48,
          "metadata": {},
          "output_type": "execute_result"
        }
      ],
      "source": [
        "device"
      ]
    },
    {
      "cell_type": "code",
      "execution_count": 50,
      "metadata": {
        "colab": {
          "base_uri": "https://localhost:8080/"
        },
        "id": "l-4WFNv2vuOt",
        "outputId": "54020113-8c7e-4554-bc0f-73a19b9da42c"
      },
      "outputs": [
        {
          "name": "stdout",
          "output_type": "stream",
          "text": [
            "Thu Jan 11 18:38:47 2024       \n",
            "+---------------------------------------------------------------------------------------+\n",
            "| NVIDIA-SMI 535.104.05             Driver Version: 535.104.05   CUDA Version: 12.2     |\n",
            "|-----------------------------------------+----------------------+----------------------+\n",
            "| GPU  Name                 Persistence-M | Bus-Id        Disp.A | Volatile Uncorr. ECC |\n",
            "| Fan  Temp   Perf          Pwr:Usage/Cap |         Memory-Usage | GPU-Util  Compute M. |\n",
            "|                                         |                      |               MIG M. |\n",
            "|=========================================+======================+======================|\n",
            "|   0  Tesla T4                       Off | 00000000:00:04.0 Off |                    0 |\n",
            "| N/A   72C    P0              32W /  70W |    299MiB / 15360MiB |      0%      Default |\n",
            "|                                         |                      |                  N/A |\n",
            "+-----------------------------------------+----------------------+----------------------+\n",
            "                                                                                         \n",
            "+---------------------------------------------------------------------------------------+\n",
            "| Processes:                                                                            |\n",
            "|  GPU   GI   CI        PID   Type   Process name                            GPU Memory |\n",
            "|        ID   ID                                                             Usage      |\n",
            "|=======================================================================================|\n",
            "+---------------------------------------------------------------------------------------+\n"
          ]
        }
      ],
      "source": [
        "!nvidia-smi"
      ]
    },
    {
      "cell_type": "code",
      "execution_count": 55,
      "metadata": {
        "colab": {
          "base_uri": "https://localhost:8080/"
        },
        "id": "nhqDqwTL1DME",
        "outputId": "370c2eb4-9858-44df-8688-fb17300add18"
      },
      "outputs": [
        {
          "name": "stdout",
          "output_type": "stream",
          "text": [
            "Saving the model to models/ECGV1.pth\n"
          ]
        }
      ],
      "source": [
        "from pathlib import Path\n",
        "\n",
        "MODEL_PATH = Path(\"models\")\n",
        "MODEL_PATH.mkdir(parents=True,\n",
        "                 exist_ok=True)\n",
        "\n",
        "MODEL_NAME = \"ECGV1.pth\"\n",
        "MODEL_SAVE_PATH = MODEL_PATH / MODEL_NAME\n",
        "\n",
        "print(f\"Saving the model to {MODEL_SAVE_PATH}\")\n",
        "torch.save(obj=model.state_dict(),\n",
        "           f=MODEL_SAVE_PATH)"
      ]
    },
    {
      "cell_type": "code",
      "execution_count": null,
      "metadata": {
        "id": "14FgBz8_1f0F"
      },
      "outputs": [],
      "source": []
    }
  ],
  "metadata": {
    "accelerator": "GPU",
    "colab": {
      "gpuType": "T4",
      "provenance": []
    },
    "kernelspec": {
      "display_name": "Python 3",
      "name": "python3"
    },
    "language_info": {
      "codemirror_mode": {
        "name": "ipython",
        "version": 3
      },
      "file_extension": ".py",
      "mimetype": "text/x-python",
      "name": "python",
      "nbconvert_exporter": "python",
      "pygments_lexer": "ipython3",
      "version": "3.10.9"
    },
    "widgets": {
      "application/vnd.jupyter.widget-state+json": {
        "06714e9278fa4863a2f1bdfb0aa8138b": {
          "model_module": "@jupyter-widgets/controls",
          "model_module_version": "1.5.0",
          "model_name": "HTMLModel",
          "state": {
            "_dom_classes": [],
            "_model_module": "@jupyter-widgets/controls",
            "_model_module_version": "1.5.0",
            "_model_name": "HTMLModel",
            "_view_count": null,
            "_view_module": "@jupyter-widgets/controls",
            "_view_module_version": "1.5.0",
            "_view_name": "HTMLView",
            "description": "",
            "description_tooltip": null,
            "layout": "IPY_MODEL_28033df219394b4fa49f20c917fc4cd1",
            "placeholder": "​",
            "style": "IPY_MODEL_fd5ca1c24d9b421f925ffdfd0294b9bc",
            "value": " 1/1 [05:30&lt;00:00, 330.91s/it]"
          }
        },
        "0c5e2f2f9db6447bab0b8d5864154ba3": {
          "model_module": "@jupyter-widgets/base",
          "model_module_version": "1.2.0",
          "model_name": "LayoutModel",
          "state": {
            "_model_module": "@jupyter-widgets/base",
            "_model_module_version": "1.2.0",
            "_model_name": "LayoutModel",
            "_view_count": null,
            "_view_module": "@jupyter-widgets/base",
            "_view_module_version": "1.2.0",
            "_view_name": "LayoutView",
            "align_content": null,
            "align_items": null,
            "align_self": null,
            "border": null,
            "bottom": null,
            "display": null,
            "flex": null,
            "flex_flow": null,
            "grid_area": null,
            "grid_auto_columns": null,
            "grid_auto_flow": null,
            "grid_auto_rows": null,
            "grid_column": null,
            "grid_gap": null,
            "grid_row": null,
            "grid_template_areas": null,
            "grid_template_columns": null,
            "grid_template_rows": null,
            "height": null,
            "justify_content": null,
            "justify_items": null,
            "left": null,
            "margin": null,
            "max_height": null,
            "max_width": null,
            "min_height": null,
            "min_width": null,
            "object_fit": null,
            "object_position": null,
            "order": null,
            "overflow": null,
            "overflow_x": null,
            "overflow_y": null,
            "padding": null,
            "right": null,
            "top": null,
            "visibility": null,
            "width": null
          }
        },
        "0e326ef37af74795a3f4b774eca95848": {
          "model_module": "@jupyter-widgets/controls",
          "model_module_version": "1.5.0",
          "model_name": "ProgressStyleModel",
          "state": {
            "_model_module": "@jupyter-widgets/controls",
            "_model_module_version": "1.5.0",
            "_model_name": "ProgressStyleModel",
            "_view_count": null,
            "_view_module": "@jupyter-widgets/base",
            "_view_module_version": "1.2.0",
            "_view_name": "StyleView",
            "bar_color": null,
            "description_width": ""
          }
        },
        "219c3a9117c94eb18a97a2c23f9175a7": {
          "model_module": "@jupyter-widgets/base",
          "model_module_version": "1.2.0",
          "model_name": "LayoutModel",
          "state": {
            "_model_module": "@jupyter-widgets/base",
            "_model_module_version": "1.2.0",
            "_model_name": "LayoutModel",
            "_view_count": null,
            "_view_module": "@jupyter-widgets/base",
            "_view_module_version": "1.2.0",
            "_view_name": "LayoutView",
            "align_content": null,
            "align_items": null,
            "align_self": null,
            "border": null,
            "bottom": null,
            "display": null,
            "flex": null,
            "flex_flow": null,
            "grid_area": null,
            "grid_auto_columns": null,
            "grid_auto_flow": null,
            "grid_auto_rows": null,
            "grid_column": null,
            "grid_gap": null,
            "grid_row": null,
            "grid_template_areas": null,
            "grid_template_columns": null,
            "grid_template_rows": null,
            "height": null,
            "justify_content": null,
            "justify_items": null,
            "left": null,
            "margin": null,
            "max_height": null,
            "max_width": null,
            "min_height": null,
            "min_width": null,
            "object_fit": null,
            "object_position": null,
            "order": null,
            "overflow": null,
            "overflow_x": null,
            "overflow_y": null,
            "padding": null,
            "right": null,
            "top": null,
            "visibility": null,
            "width": null
          }
        },
        "28033df219394b4fa49f20c917fc4cd1": {
          "model_module": "@jupyter-widgets/base",
          "model_module_version": "1.2.0",
          "model_name": "LayoutModel",
          "state": {
            "_model_module": "@jupyter-widgets/base",
            "_model_module_version": "1.2.0",
            "_model_name": "LayoutModel",
            "_view_count": null,
            "_view_module": "@jupyter-widgets/base",
            "_view_module_version": "1.2.0",
            "_view_name": "LayoutView",
            "align_content": null,
            "align_items": null,
            "align_self": null,
            "border": null,
            "bottom": null,
            "display": null,
            "flex": null,
            "flex_flow": null,
            "grid_area": null,
            "grid_auto_columns": null,
            "grid_auto_flow": null,
            "grid_auto_rows": null,
            "grid_column": null,
            "grid_gap": null,
            "grid_row": null,
            "grid_template_areas": null,
            "grid_template_columns": null,
            "grid_template_rows": null,
            "height": null,
            "justify_content": null,
            "justify_items": null,
            "left": null,
            "margin": null,
            "max_height": null,
            "max_width": null,
            "min_height": null,
            "min_width": null,
            "object_fit": null,
            "object_position": null,
            "order": null,
            "overflow": null,
            "overflow_x": null,
            "overflow_y": null,
            "padding": null,
            "right": null,
            "top": null,
            "visibility": null,
            "width": null
          }
        },
        "4296fb00f5ed40d29135e12565e268d7": {
          "model_module": "@jupyter-widgets/controls",
          "model_module_version": "1.5.0",
          "model_name": "HBoxModel",
          "state": {
            "_dom_classes": [],
            "_model_module": "@jupyter-widgets/controls",
            "_model_module_version": "1.5.0",
            "_model_name": "HBoxModel",
            "_view_count": null,
            "_view_module": "@jupyter-widgets/controls",
            "_view_module_version": "1.5.0",
            "_view_name": "HBoxView",
            "box_style": "",
            "children": [
              "IPY_MODEL_e6931e75dbb1410a99560bee4bc0dc6e",
              "IPY_MODEL_947042e531b544e2a9a734d18ea56448",
              "IPY_MODEL_06714e9278fa4863a2f1bdfb0aa8138b"
            ],
            "layout": "IPY_MODEL_bdc0097d7ef94fa6a7df4757bc8431e5"
          }
        },
        "947042e531b544e2a9a734d18ea56448": {
          "model_module": "@jupyter-widgets/controls",
          "model_module_version": "1.5.0",
          "model_name": "FloatProgressModel",
          "state": {
            "_dom_classes": [],
            "_model_module": "@jupyter-widgets/controls",
            "_model_module_version": "1.5.0",
            "_model_name": "FloatProgressModel",
            "_view_count": null,
            "_view_module": "@jupyter-widgets/controls",
            "_view_module_version": "1.5.0",
            "_view_name": "ProgressView",
            "bar_style": "success",
            "description": "",
            "description_tooltip": null,
            "layout": "IPY_MODEL_219c3a9117c94eb18a97a2c23f9175a7",
            "max": 1,
            "min": 0,
            "orientation": "horizontal",
            "style": "IPY_MODEL_0e326ef37af74795a3f4b774eca95848",
            "value": 1
          }
        },
        "b2513fb72634434494d1c8299c0f293f": {
          "model_module": "@jupyter-widgets/controls",
          "model_module_version": "1.5.0",
          "model_name": "DescriptionStyleModel",
          "state": {
            "_model_module": "@jupyter-widgets/controls",
            "_model_module_version": "1.5.0",
            "_model_name": "DescriptionStyleModel",
            "_view_count": null,
            "_view_module": "@jupyter-widgets/base",
            "_view_module_version": "1.2.0",
            "_view_name": "StyleView",
            "description_width": ""
          }
        },
        "bdc0097d7ef94fa6a7df4757bc8431e5": {
          "model_module": "@jupyter-widgets/base",
          "model_module_version": "1.2.0",
          "model_name": "LayoutModel",
          "state": {
            "_model_module": "@jupyter-widgets/base",
            "_model_module_version": "1.2.0",
            "_model_name": "LayoutModel",
            "_view_count": null,
            "_view_module": "@jupyter-widgets/base",
            "_view_module_version": "1.2.0",
            "_view_name": "LayoutView",
            "align_content": null,
            "align_items": null,
            "align_self": null,
            "border": null,
            "bottom": null,
            "display": null,
            "flex": null,
            "flex_flow": null,
            "grid_area": null,
            "grid_auto_columns": null,
            "grid_auto_flow": null,
            "grid_auto_rows": null,
            "grid_column": null,
            "grid_gap": null,
            "grid_row": null,
            "grid_template_areas": null,
            "grid_template_columns": null,
            "grid_template_rows": null,
            "height": null,
            "justify_content": null,
            "justify_items": null,
            "left": null,
            "margin": null,
            "max_height": null,
            "max_width": null,
            "min_height": null,
            "min_width": null,
            "object_fit": null,
            "object_position": null,
            "order": null,
            "overflow": null,
            "overflow_x": null,
            "overflow_y": null,
            "padding": null,
            "right": null,
            "top": null,
            "visibility": null,
            "width": null
          }
        },
        "e6931e75dbb1410a99560bee4bc0dc6e": {
          "model_module": "@jupyter-widgets/controls",
          "model_module_version": "1.5.0",
          "model_name": "HTMLModel",
          "state": {
            "_dom_classes": [],
            "_model_module": "@jupyter-widgets/controls",
            "_model_module_version": "1.5.0",
            "_model_name": "HTMLModel",
            "_view_count": null,
            "_view_module": "@jupyter-widgets/controls",
            "_view_module_version": "1.5.0",
            "_view_name": "HTMLView",
            "description": "",
            "description_tooltip": null,
            "layout": "IPY_MODEL_0c5e2f2f9db6447bab0b8d5864154ba3",
            "placeholder": "​",
            "style": "IPY_MODEL_b2513fb72634434494d1c8299c0f293f",
            "value": "100%"
          }
        },
        "fd5ca1c24d9b421f925ffdfd0294b9bc": {
          "model_module": "@jupyter-widgets/controls",
          "model_module_version": "1.5.0",
          "model_name": "DescriptionStyleModel",
          "state": {
            "_model_module": "@jupyter-widgets/controls",
            "_model_module_version": "1.5.0",
            "_model_name": "DescriptionStyleModel",
            "_view_count": null,
            "_view_module": "@jupyter-widgets/base",
            "_view_module_version": "1.2.0",
            "_view_name": "StyleView",
            "description_width": ""
          }
        }
      }
    }
  },
  "nbformat": 4,
  "nbformat_minor": 0
}
